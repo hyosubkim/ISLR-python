{
 "cells": [
  {
   "cell_type": "markdown",
   "metadata": {},
   "source": [
    "This lab on Cross-Validation is a python adaptation of p. 190-194 of \"Introduction to Statistical Learning\n",
    "with Applications in R\" by Gareth James, Daniela Witten, Trevor Hastie and Robert Tibshirani. Written\n",
    "by R. Jordan Crouser at Smith College for SDS293: Machine Learning (Spring 2016).\n",
    "\n",
    "# 5.3.1 The Validation Set Approach"
   ]
  },
  {
   "cell_type": "code",
   "execution_count": 39,
   "metadata": {},
   "outputs": [],
   "source": [
    "import pandas as pd\n",
    "import numpy as np\n",
    "import sklearn.linear_model as skl_lm\n",
    "import matplotlib.pyplot as plt\n",
    "%matplotlib inline"
   ]
  },
  {
   "cell_type": "markdown",
   "metadata": {},
   "source": [
    "In this section, we'll explore the use of the validation set approach in order to estimate the\n",
    "test error rates that result from fitting various linear models on the ${\\tt Auto}$ data set."
   ]
  },
  {
   "cell_type": "code",
   "execution_count": 10,
   "metadata": {},
   "outputs": [
    {
     "name": "stdout",
     "output_type": "stream",
     "text": [
      "<class 'pandas.core.frame.DataFrame'>\n",
      "Int64Index: 392 entries, 0 to 391\n",
      "Data columns (total 9 columns):\n",
      " #   Column        Non-Null Count  Dtype  \n",
      "---  ------        --------------  -----  \n",
      " 0   mpg           392 non-null    float64\n",
      " 1   cylinders     392 non-null    int64  \n",
      " 2   displacement  392 non-null    float64\n",
      " 3   horsepower    392 non-null    int64  \n",
      " 4   weight        392 non-null    int64  \n",
      " 5   acceleration  392 non-null    float64\n",
      " 6   year          392 non-null    int64  \n",
      " 7   origin        392 non-null    int64  \n",
      " 8   name          392 non-null    object \n",
      "dtypes: float64(3), int64(5), object(1)\n",
      "memory usage: 30.6+ KB\n"
     ]
    }
   ],
   "source": [
    "df1 = pd.read_csv('data/Auto.csv', na_values='?').dropna()\n",
    "df1.info()"
   ]
  },
  {
   "cell_type": "code",
   "execution_count": 42,
   "metadata": {},
   "outputs": [
    {
     "data": {
      "image/png": "[encoded data removed]",
      "text/plain": [
       "<Figure size 432x288 with 1 Axes>"
      ]
     },
     "metadata": {
      "needs_background": "light"
     },
     "output_type": "display_data"
    }
   ],
   "source": [
    "# probably worth plotting a figure of mpg vs horsepower\n",
    "plt.scatter(df1[\"horsepower\"], df1[\"mpg\"])\n",
    "plt.xlabel(\"horsepower\"); plt.ylabel(\"MPG\");"
   ]
  },
  {
   "cell_type": "markdown",
   "metadata": {},
   "source": [
    "We begin by using the ${\\tt sample()}$ function to split the set of observations\n",
    "into two halves, by selecting a random subset of 196 observations out of\n",
    "the original 392 observations. We refer to these observations as the training\n",
    "set.\n",
    "\n",
    "We'll use the ${\\tt random\\_state}$ parameter in order to set a seed for\n",
    "${\\tt python}$’s random number generator, so that you'll obtain precisely the same results each time. It is generally a good idea to set a random seed when performing an analysis such as cross-validation\n",
    "that contains an element of randomness, so that the results obtained can be reproduced precisely at a later time."
   ]
  },
  {
   "cell_type": "code",
   "execution_count": 15,
   "metadata": {},
   "outputs": [
    {
     "data": {
      "text/plain": [
       "array([[ 97],\n",
       "       [ 75],\n",
       "       [ 75],\n",
       "       [112],\n",
       "       [ 67],\n",
       "       [ 83],\n",
       "       [ 69],\n",
       "       [150],\n",
       "       [ 92],\n",
       "       [ 72],\n",
       "       [115],\n",
       "       [ 76],\n",
       "       [130],\n",
       "       [ 70],\n",
       "       [ 84],\n",
       "       [140],\n",
       "       [ 84],\n",
       "       [ 48],\n",
       "       [220],\n",
       "       [100],\n",
       "       [ 75],\n",
       "       [110],\n",
       "       [150],\n",
       "       [170],\n",
       "       [198],\n",
       "       [150],\n",
       "       [ 68],\n",
       "       [100],\n",
       "       [110],\n",
       "       [ 84],\n",
       "       [145],\n",
       "       [ 88],\n",
       "       [155],\n",
       "       [112],\n",
       "       [105],\n",
       "       [140],\n",
       "       [ 95],\n",
       "       [105],\n",
       "       [ 67],\n",
       "       [ 88],\n",
       "       [190],\n",
       "       [175],\n",
       "       [122],\n",
       "       [100],\n",
       "       [100],\n",
       "       [110],\n",
       "       [150],\n",
       "       [ 68],\n",
       "       [100],\n",
       "       [215],\n",
       "       [150],\n",
       "       [ 95],\n",
       "       [ 90],\n",
       "       [ 84],\n",
       "       [ 62],\n",
       "       [ 97],\n",
       "       [115],\n",
       "       [ 85],\n",
       "       [ 90],\n",
       "       [ 60],\n",
       "       [ 85],\n",
       "       [ 86],\n",
       "       [ 65],\n",
       "       [110],\n",
       "       [ 90],\n",
       "       [ 90],\n",
       "       [ 88],\n",
       "       [160],\n",
       "       [ 71],\n",
       "       [180],\n",
       "       [ 92],\n",
       "       [125],\n",
       "       [150],\n",
       "       [ 78],\n",
       "       [113],\n",
       "       [ 80],\n",
       "       [225],\n",
       "       [150],\n",
       "       [165],\n",
       "       [ 84],\n",
       "       [110],\n",
       "       [ 83],\n",
       "       [ 65],\n",
       "       [ 74],\n",
       "       [175],\n",
       "       [110],\n",
       "       [ 67],\n",
       "       [ 80],\n",
       "       [ 67],\n",
       "       [ 81],\n",
       "       [ 80],\n",
       "       [ 85],\n",
       "       [130],\n",
       "       [210],\n",
       "       [198],\n",
       "       [115],\n",
       "       [140],\n",
       "       [115],\n",
       "       [ 85],\n",
       "       [155],\n",
       "       [ 88],\n",
       "       [ 72],\n",
       "       [100],\n",
       "       [ 75],\n",
       "       [ 75],\n",
       "       [ 68],\n",
       "       [ 88],\n",
       "       [ 52],\n",
       "       [153],\n",
       "       [105],\n",
       "       [ 65],\n",
       "       [ 76],\n",
       "       [ 68],\n",
       "       [ 90],\n",
       "       [150],\n",
       "       [ 90],\n",
       "       [110],\n",
       "       [158],\n",
       "       [ 88],\n",
       "       [ 82],\n",
       "       [ 52],\n",
       "       [ 88],\n",
       "       [125],\n",
       "       [ 65],\n",
       "       [150],\n",
       "       [ 54],\n",
       "       [ 80],\n",
       "       [152],\n",
       "       [ 97],\n",
       "       [ 65],\n",
       "       [ 74],\n",
       "       [ 90],\n",
       "       [150],\n",
       "       [100],\n",
       "       [ 95],\n",
       "       [149],\n",
       "       [ 95],\n",
       "       [ 97],\n",
       "       [180],\n",
       "       [150],\n",
       "       [ 85],\n",
       "       [ 76],\n",
       "       [107],\n",
       "       [190],\n",
       "       [ 95],\n",
       "       [ 97],\n",
       "       [ 70],\n",
       "       [130],\n",
       "       [180],\n",
       "       [ 53],\n",
       "       [ 71],\n",
       "       [ 97],\n",
       "       [175],\n",
       "       [ 95],\n",
       "       [105],\n",
       "       [ 75],\n",
       "       [ 63],\n",
       "       [ 75],\n",
       "       [170],\n",
       "       [180],\n",
       "       [110],\n",
       "       [108],\n",
       "       [150],\n",
       "       [ 90],\n",
       "       [138],\n",
       "       [103],\n",
       "       [ 97],\n",
       "       [ 67],\n",
       "       [ 95],\n",
       "       [100],\n",
       "       [ 90],\n",
       "       [ 89],\n",
       "       [150],\n",
       "       [ 92],\n",
       "       [170],\n",
       "       [ 46],\n",
       "       [140],\n",
       "       [110],\n",
       "       [ 75],\n",
       "       [110],\n",
       "       [100],\n",
       "       [100],\n",
       "       [ 78],\n",
       "       [ 72],\n",
       "       [ 58],\n",
       "       [ 96],\n",
       "       [ 86],\n",
       "       [ 70],\n",
       "       [175],\n",
       "       [225],\n",
       "       [ 79],\n",
       "       [ 88],\n",
       "       [ 67],\n",
       "       [ 48],\n",
       "       [ 90],\n",
       "       [193]])"
      ]
     },
     "execution_count": 15,
     "metadata": {},
     "output_type": "execute_result"
    }
   ],
   "source": [
    "train_df = df1.sample(196, random_state = 1)\n",
    "test_df = df1[~df1.isin(train_df)].dropna(how = 'all')\n",
    "\n",
    "X_train = train_df['horsepower'].values.reshape(-1,1) # input argument value of -1 means shape is inferred \n",
    "y_train = train_df['mpg']\n",
    "X_test = test_df['horsepower'].values.reshape(-1,1)\n",
    "y_test = test_df['mpg']"
   ]
  },
  {
   "cell_type": "markdown",
   "metadata": {},
   "source": [
    "We then use ${\\tt LinearRegression()}$ to fit a linear regression to predict ${\\tt mpg}$ from ${\\tt horsepower}$ using only\n",
    "the observations corresponding to the training set."
   ]
  },
  {
   "cell_type": "code",
   "execution_count": 16,
   "metadata": {},
   "outputs": [],
   "source": [
    "lm = skl_lm.LinearRegression()\n",
    "model = lm.fit(X_train, y_train)"
   ]
  },
  {
   "cell_type": "markdown",
   "metadata": {},
   "source": [
    "We now use the ${\\tt predict()}$ function to estimate the response for the test\n",
    "observations, and we use ${\\tt sklearn}$ to caclulate the MSE."
   ]
  },
  {
   "cell_type": "code",
   "execution_count": 17,
   "metadata": {},
   "outputs": [
    {
     "name": "stdout",
     "output_type": "stream",
     "text": [
      "23.361902892587224\n"
     ]
    }
   ],
   "source": [
    "pred = model.predict(X_test)\n",
    "\n",
    "from sklearn.metrics import mean_squared_error\n",
    "\n",
    "MSE = mean_squared_error(y_test, pred)\n",
    "    \n",
    "print(MSE)"
   ]
  },
  {
   "cell_type": "markdown",
   "metadata": {},
   "source": [
    "**Note:** The MSE value here is different than that in the book because we're probably splitting the data in different test and train sets due to the likely different seeds for the random number generators."
   ]
  },
  {
   "cell_type": "markdown",
   "metadata": {},
   "source": [
    "Therefore, the estimated test MSE for the linear regression fit is 23.36. We\n",
    "can use the ${\\tt PolynomialFeatures()}$ function to estimate the test error for the polynomial\n",
    "and cubic regressions."
   ]
  },
  {
   "cell_type": "code",
   "execution_count": 22,
   "metadata": {},
   "outputs": [
    {
     "name": "stdout",
     "output_type": "stream",
     "text": [
      "19.72253347049252\n",
      "19.921367860017877\n"
     ]
    }
   ],
   "source": [
    "from sklearn.preprocessing import PolynomialFeatures\n",
    "\n",
    "# Quadratic\n",
    "poly = PolynomialFeatures(degree=2)\n",
    "X_train2 = poly.fit_transform(X_train)\n",
    "X_test2 = poly.fit_transform(X_test)\n",
    "\n",
    "model = lm.fit(X_train2, y_train)\n",
    "print(mean_squared_error(y_test, model.predict(X_test2)))\n",
    "\n",
    "# Cubic\n",
    "poly = PolynomialFeatures(degree=3)\n",
    "X_train3 = poly.fit_transform(X_train)\n",
    "X_test3 = poly.fit_transform(X_test)\n",
    "\n",
    "model = lm.fit(X_train3, y_train)\n",
    "print(mean_squared_error(y_test, model.predict(X_test3)))"
   ]
  },
  {
   "cell_type": "markdown",
   "metadata": {},
   "source": [
    "These error rates are 20.25 and 20.33, respectively. If we choose a different\n",
    "training set instead, then we will obtain somewhat different errors on the\n",
    "validation set. We can test this out by setting a different random seed:"
   ]
  },
  {
   "cell_type": "code",
   "execution_count": 23,
   "metadata": {},
   "outputs": [
    {
     "name": "stdout",
     "output_type": "stream",
     "text": [
      "25.10853905288967\n",
      "19.72253347049252\n",
      "19.921367860017877\n"
     ]
    }
   ],
   "source": [
    "train_df = df1.sample(196, random_state = 2)\n",
    "test_df = df1[~df1.isin(train_df)].dropna(how = 'all')\n",
    "\n",
    "X_train = train_df['horsepower'].values.reshape(-1,1)\n",
    "y_train = train_df['mpg']\n",
    "X_test = test_df['horsepower'].values.reshape(-1,1)\n",
    "y_test = test_df['mpg']\n",
    "\n",
    "# Linear\n",
    "model = lm.fit(X_train, y_train)\n",
    "print(mean_squared_error(y_test, model.predict(X_test)))\n",
    "\n",
    "# Quadratic\n",
    "poly = PolynomialFeatures(degree=2)\n",
    "X_train2 = poly.fit_transform(X_train)\n",
    "X_test2 = poly.fit_transform(X_test)\n",
    "\n",
    "model = lm.fit(X_train2, y_train)\n",
    "print(mean_squared_error(y_test, model.predict(X_test2)))\n",
    "\n",
    "# Cubic\n",
    "poly = PolynomialFeatures(degree=3)\n",
    "X_train3 = poly.fit_transform(X_train)\n",
    "X_test3 = poly.fit_transform(X_test)\n",
    "\n",
    "model = lm.fit(X_train3, y_train)\n",
    "print(mean_squared_error(y_test, model.predict(X_test3)))"
   ]
  },
  {
   "cell_type": "markdown",
   "metadata": {},
   "source": [
    "Using this split of the observations into a training set and a validation\n",
    "set, we find that the validation set error rates for the models with linear,\n",
    "quadratic, and cubic terms are 25.11, 19.72, and 19.92, respectively.\n",
    "\n",
    "These results are consistent with our previous findings: a model that\n",
    "predicts ${\\tt mpg}$ using a quadratic function of ${\\tt horsepower}$ performs better than\n",
    "a model that involves only a linear function of ${\\tt horsepower}$, and there is\n",
    "little evidence in favor of a model that uses a cubic function of ${\\tt horsepower}$.\n",
    "\n",
    "# 5.3.2 Leave-One-Out Cross-Validation\n",
    "\n",
    "The LOOCV estimate can be automatically computed for any generalized linear model using the `LeaveOneOut()` and `KFold()` functions."
   ]
  },
  {
   "cell_type": "code",
   "execution_count": 112,
   "metadata": {},
   "outputs": [
    {
     "name": "stdout",
     "output_type": "stream",
     "text": [
      "Folds: 392, MSE: 24.231513517929226, STD: 36.79731503640535\n"
     ]
    }
   ],
   "source": [
    "model = lm.fit(X_train, y_train)\n",
    "\n",
    "from sklearn.model_selection import cross_val_score, cross_val_predict, LeaveOneOut\n",
    "loo = LeaveOneOut()\n",
    "X = df1['horsepower'].values.reshape(-1,1)\n",
    "y = df1['mpg'].values.reshape(-1,1)\n",
    "scores = loo.get_n_splits(X)\n",
    "\n",
    "from sklearn.model_selection import KFold\n",
    "\n",
    "model = lm.fit(X, y)\n",
    "crossvalidation = KFold(n_splits=392, random_state=None, shuffle=False)\n",
    "\n",
    "scores = cross_val_score(model, X, y, scoring=\"neg_mean_squared_error\", cv=crossvalidation,\n",
    " n_jobs=1)\n",
    "\n",
    "print(\"Folds: \" + str(len(scores)) + \", MSE: \" + str(np.mean(np.abs(scores))) + \", STD: \" + str(np.std(scores)))"
   ]
  },
  {
   "cell_type": "code",
   "execution_count": 32,
   "metadata": {},
   "outputs": [],
   "source": [
    "cross_val_score?"
   ]
  },
  {
   "cell_type": "markdown",
   "metadata": {},
   "source": [
    "Our cross-validation estimate for the test error is approximately 24.23. We can repeat this procedure for increasingly complex polynomial fits.\n",
    "To automate the process, we use the `for()` function to initiate a for loop\n",
    "which iteratively fits polynomial regressions for polynomials of order `i = 1`\n",
    "to `i = 5` and computes the associated cross-validation error. \n",
    "\n",
    "This command may take a couple of minutes to run."
   ]
  },
  {
   "cell_type": "code",
   "execution_count": 52,
   "metadata": {},
   "outputs": [
    {
     "name": "stdout",
     "output_type": "stream",
     "text": [
      "Degree-1 polynomial MSE: 27.439933652339857, STD: 14.510250711281133\n",
      "Degree-2 polynomial MSE: 21.235840055802118, STD: 11.797327528898292\n",
      "Degree-3 polynomial MSE: 21.336606183328417, STD: 11.8443397146369\n",
      "Degree-4 polynomial MSE: 21.353886994209773, STD: 11.986332342224673\n",
      "Degree-5 polynomial MSE: 20.905646119059934, STD: 12.18560440073758\n"
     ]
    }
   ],
   "source": [
    "for i in range(1,6):\n",
    "    poly = PolynomialFeatures(degree=i)\n",
    "    X_current = poly.fit_transform(X)\n",
    "    model = lm.fit(X_current, y)\n",
    "    scores = cross_val_score(model, X_current, y, scoring=\"neg_mean_squared_error\", cv=crossvalidation,\n",
    " n_jobs=1)\n",
    "#     scores = cross_val_score(model, X_current, y, cv=crossvalidation, n_jobs=1)\n",
    "    \n",
    "    print(\"Degree-\"+str(i)+\" polynomial MSE: \" + str(np.mean(np.abs(scores))) + \", STD: \" + str(np.std(scores)))\n"
   ]
  },
  {
   "cell_type": "markdown",
   "metadata": {},
   "source": [
    "Here we see a sharp drop in the estimated test MSE between\n",
    "the linear and quadratic fits, but then no clear improvement from using\n",
    "higher-order polynomials.\n",
    "\n",
    "**Note:** The scoring input argument \"neg_mean_squared_error\" is actually the MSE. I don't have any idea why they use this nomenclature."
   ]
  },
  {
   "cell_type": "markdown",
   "metadata": {},
   "source": [
    "# 5.3.3 k-Fold Cross-Validation\n",
    "\n",
    "The `KFold` function can (intuitively) also be used to implement `k`-fold CV. Below we\n",
    "use `k = 10`, a common choice for `k`, on the `Auto` data set. We once again set\n",
    "a random seed and initialize a vector in which we will print the CV errors\n",
    "corresponding to the polynomial fits of orders one to ten."
   ]
  },
  {
   "cell_type": "code",
   "execution_count": 34,
   "metadata": {},
   "outputs": [
    {
     "name": "stdout",
     "output_type": "stream",
     "text": [
      "Degree-1 polynomial MSE: 27.439933652339857, STD: 14.510250711281133\n",
      "Degree-2 polynomial MSE: 21.235840055802118, STD: 11.797327528898292\n",
      "Degree-3 polynomial MSE: 21.336606183328417, STD: 11.8443397146369\n",
      "Degree-4 polynomial MSE: 21.353886994209773, STD: 11.986332342224673\n",
      "Degree-5 polynomial MSE: 20.905646119059934, STD: 12.18560440073758\n",
      "Degree-6 polynomial MSE: 20.82189095906726, STD: 12.126258882595026\n",
      "Degree-7 polynomial MSE: 20.953103378424785, STD: 12.059908521569556\n",
      "Degree-8 polynomial MSE: 21.077131510426256, STD: 12.04447106023584\n",
      "Degree-9 polynomial MSE: 21.03675183384266, STD: 11.948760351967676\n",
      "Degree-10 polynomial MSE: 20.981013741561554, STD: 11.797365253121383\n"
     ]
    },
    {
     "name": "stderr",
     "output_type": "stream",
     "text": [
      "/anaconda3/lib/python3.7/site-packages/sklearn/model_selection/_split.py:296: FutureWarning: Setting a random_state has no effect since shuffle is False. This will raise an error in 0.24. You should leave random_state to its default (None), or set shuffle=True.\n",
      "  FutureWarning\n"
     ]
    }
   ],
   "source": [
    "crossvalidation = KFold(n_splits=10, random_state=1, shuffle=False)\n",
    "\n",
    "for i in range(1,11):\n",
    "    poly = PolynomialFeatures(degree=i)\n",
    "    X_current = poly.fit_transform(X)\n",
    "    model = lm.fit(X_current, y)\n",
    "    scores = cross_val_score(model, X_current, y, scoring=\"neg_mean_squared_error\", cv=crossvalidation,\n",
    " n_jobs=1)\n",
    "    \n",
    "    print(\"Degree-\"+str(i)+\" polynomial MSE: \" + str(np.mean(np.abs(scores))) + \", STD: \" + str(np.std(scores)))"
   ]
  },
  {
   "cell_type": "markdown",
   "metadata": {},
   "source": [
    "Notice that the computation time is **much** shorter than that of LOOCV.\n",
    "(In principle, the computation time for LOOCV for a least squares linear\n",
    "model should be faster than for `k`-fold CV, due to the availability of the\n",
    "formula (5.2) for LOOCV; however, unfortunately the `KFold()` function\n",
    "does not make use of this formula.) We still see little evidence that using\n",
    "cubic or higher-order polynomial terms leads to lower test error than simply\n",
    "using a quadratic fit.\n",
    "\n",
    "# An Application to Default Data\n",
    "\n",
    "Now that you're armed with more useful technique for resampling your data, let's try fitting a model for the `Default` dataset:"
   ]
  },
  {
   "cell_type": "code",
   "execution_count": 79,
   "metadata": {},
   "outputs": [
    {
     "data": {
      "text/html": [
       "<div>\n",
       "<style scoped>\n",
       "    .dataframe tbody tr th:only-of-type {\n",
       "        vertical-align: middle;\n",
       "    }\n",
       "\n",
       "    .dataframe tbody tr th {\n",
       "        vertical-align: top;\n",
       "    }\n",
       "\n",
       "    .dataframe thead th {\n",
       "        text-align: right;\n",
       "    }\n",
       "</style>\n",
       "<table border=\"1\" class=\"dataframe\">\n",
       "  <thead>\n",
       "    <tr style=\"text-align: right;\">\n",
       "      <th></th>\n",
       "      <th>default</th>\n",
       "      <th>student</th>\n",
       "      <th>balance</th>\n",
       "      <th>income</th>\n",
       "    </tr>\n",
       "  </thead>\n",
       "  <tbody>\n",
       "    <tr>\n",
       "      <th>0</th>\n",
       "      <td>No</td>\n",
       "      <td>No</td>\n",
       "      <td>729.526495</td>\n",
       "      <td>44361.625074</td>\n",
       "    </tr>\n",
       "    <tr>\n",
       "      <th>1</th>\n",
       "      <td>No</td>\n",
       "      <td>Yes</td>\n",
       "      <td>817.180407</td>\n",
       "      <td>12106.134700</td>\n",
       "    </tr>\n",
       "    <tr>\n",
       "      <th>2</th>\n",
       "      <td>No</td>\n",
       "      <td>No</td>\n",
       "      <td>1073.549164</td>\n",
       "      <td>31767.138947</td>\n",
       "    </tr>\n",
       "    <tr>\n",
       "      <th>3</th>\n",
       "      <td>No</td>\n",
       "      <td>No</td>\n",
       "      <td>529.250605</td>\n",
       "      <td>35704.493935</td>\n",
       "    </tr>\n",
       "    <tr>\n",
       "      <th>4</th>\n",
       "      <td>No</td>\n",
       "      <td>No</td>\n",
       "      <td>785.655883</td>\n",
       "      <td>38463.495879</td>\n",
       "    </tr>\n",
       "  </tbody>\n",
       "</table>\n",
       "</div>"
      ],
      "text/plain": [
       "  default student      balance        income\n",
       "0      No      No   729.526495  44361.625074\n",
       "1      No     Yes   817.180407  12106.134700\n",
       "2      No      No  1073.549164  31767.138947\n",
       "3      No      No   529.250605  35704.493935\n",
       "4      No      No   785.655883  38463.495879"
      ]
     },
     "execution_count": 79,
     "metadata": {},
     "output_type": "execute_result"
    }
   ],
   "source": [
    "df2 = pd.read_csv('data/default.csv', na_values='?').dropna()\n",
    "df2.head()"
   ]
  },
  {
   "cell_type": "markdown",
   "metadata": {},
   "source": [
    "First we'll try just holding out a random 20% of the data:"
   ]
  },
  {
   "cell_type": "code",
   "execution_count": 80,
   "metadata": {},
   "outputs": [
    {
     "name": "stdout",
     "output_type": "stream",
     "text": [
      "----------------\n",
      "Random Seed = 1\n",
      "----------------\n",
      "[[1921    6]\n",
      " [  50   23]]\n",
      "              precision    recall  f1-score   support\n",
      "\n",
      "          No      0.975     0.997     0.986      1927\n",
      "         Yes      0.793     0.315     0.451        73\n",
      "\n",
      "    accuracy                          0.972      2000\n",
      "   macro avg      0.884     0.656     0.718      2000\n",
      "weighted avg      0.968     0.972     0.966      2000\n",
      "\n",
      "\n",
      "----------------\n",
      "Random Seed = 2\n",
      "----------------\n",
      "[[1919   13]\n",
      " [  47   21]]\n",
      "              precision    recall  f1-score   support\n",
      "\n",
      "          No      0.976     0.993     0.985      1932\n",
      "         Yes      0.618     0.309     0.412        68\n",
      "\n",
      "    accuracy                          0.970      2000\n",
      "   macro avg      0.797     0.651     0.698      2000\n",
      "weighted avg      0.964     0.970     0.965      2000\n",
      "\n",
      "\n",
      "----------------\n",
      "Random Seed = 3\n",
      "----------------\n",
      "[[1918   14]\n",
      " [  49   19]]\n",
      "              precision    recall  f1-score   support\n",
      "\n",
      "          No      0.975     0.993     0.984      1932\n",
      "         Yes      0.576     0.279     0.376        68\n",
      "\n",
      "    accuracy                          0.969      2000\n",
      "   macro avg      0.775     0.636     0.680      2000\n",
      "weighted avg      0.962     0.969     0.963      2000\n",
      "\n",
      "\n",
      "----------------\n",
      "Random Seed = 4\n",
      "----------------\n",
      "[[1932    4]\n",
      " [  46   18]]\n",
      "              precision    recall  f1-score   support\n",
      "\n",
      "          No      0.977     0.998     0.987      1936\n",
      "         Yes      0.818     0.281     0.419        64\n",
      "\n",
      "    accuracy                          0.975      2000\n",
      "   macro avg      0.897     0.640     0.703      2000\n",
      "weighted avg      0.972     0.975     0.969      2000\n",
      "\n",
      "\n",
      "----------------\n",
      "Random Seed = 5\n",
      "----------------\n",
      "[[1917    8]\n",
      " [  52   23]]\n",
      "              precision    recall  f1-score   support\n",
      "\n",
      "          No      0.974     0.996     0.985      1925\n",
      "         Yes      0.742     0.307     0.434        75\n",
      "\n",
      "    accuracy                          0.970      2000\n",
      "   macro avg      0.858     0.651     0.709      2000\n",
      "weighted avg      0.965     0.970     0.964      2000\n",
      "\n",
      "\n",
      "----------------\n",
      "Random Seed = 6\n",
      "----------------\n",
      "[[1938    8]\n",
      " [  38   16]]\n",
      "              precision    recall  f1-score   support\n",
      "\n",
      "          No      0.981     0.996     0.988      1946\n",
      "         Yes      0.667     0.296     0.410        54\n",
      "\n",
      "    accuracy                          0.977      2000\n",
      "   macro avg      0.824     0.646     0.699      2000\n",
      "weighted avg      0.972     0.977     0.973      2000\n",
      "\n",
      "\n",
      "----------------\n",
      "Random Seed = 7\n",
      "----------------\n",
      "[[1919    5]\n",
      " [  59   17]]\n",
      "              precision    recall  f1-score   support\n",
      "\n",
      "          No      0.970     0.997     0.984      1924\n",
      "         Yes      0.773     0.224     0.347        76\n",
      "\n",
      "    accuracy                          0.968      2000\n",
      "   macro avg      0.871     0.611     0.665      2000\n",
      "weighted avg      0.963     0.968     0.959      2000\n",
      "\n",
      "\n",
      "----------------\n",
      "Random Seed = 8\n",
      "----------------\n",
      "[[1921   16]\n",
      " [  46   17]]\n",
      "              precision    recall  f1-score   support\n",
      "\n",
      "          No      0.977     0.992     0.984      1937\n",
      "         Yes      0.515     0.270     0.354        63\n",
      "\n",
      "    accuracy                          0.969      2000\n",
      "   macro avg      0.746     0.631     0.669      2000\n",
      "weighted avg      0.962     0.969     0.964      2000\n",
      "\n",
      "\n",
      "----------------\n",
      "Random Seed = 9\n",
      "----------------\n",
      "[[1917    6]\n",
      " [  60   17]]\n",
      "              precision    recall  f1-score   support\n",
      "\n",
      "          No      0.970     0.997     0.983      1923\n",
      "         Yes      0.739     0.221     0.340        77\n",
      "\n",
      "    accuracy                          0.967      2000\n",
      "   macro avg      0.854     0.609     0.662      2000\n",
      "weighted avg      0.961     0.967     0.958      2000\n",
      "\n",
      "\n",
      "----------------\n",
      "Random Seed = 10\n",
      "----------------\n",
      "[[1926    6]\n",
      " [  49   19]]\n",
      "              precision    recall  f1-score   support\n",
      "\n",
      "          No      0.975     0.997     0.986      1932\n",
      "         Yes      0.760     0.279     0.409        68\n",
      "\n",
      "    accuracy                          0.973      2000\n",
      "   macro avg      0.868     0.638     0.697      2000\n",
      "weighted avg      0.968     0.973     0.966      2000\n",
      "\n",
      "\n"
     ]
    }
   ],
   "source": [
    "import statsmodels.formula.api as smf\n",
    "import statsmodels.api as sm\n",
    "from sklearn.metrics import confusion_matrix, classification_report\n",
    "\n",
    "for i in range(1,11):\n",
    "    train_df2 = df2.sample(8000, random_state = i)\n",
    "    test_df2 = df2[~df2.isin(train_df2)].dropna(how = 'all')\n",
    "    \n",
    "    # Fit a logistic regression to predict default using balance\n",
    "    model = smf.glm('default~balance', data=train_df2, family=sm.families.Binomial())\n",
    "    result = model.fit()\n",
    "    predictions_nominal = [ \"Yes\" if x < 0.5 else \"No\" for x in result.predict(test_df2)]\n",
    "    print(\"----------------\")\n",
    "    print(\"Random Seed = \" + str(i) + \"\")\n",
    "    print(\"----------------\")\n",
    "    print(confusion_matrix(test_df2[\"default\"], \n",
    "                       predictions_nominal))\n",
    "    print(classification_report(test_df2[\"default\"], \n",
    "                            predictions_nominal, \n",
    "                            digits = 3))\n",
    "    print()\n",
    "    "
   ]
  },
  {
   "cell_type": "markdown",
   "metadata": {},
   "source": [
    "Our accuracy is really high on this data, but we're getting different error rates depending on how we choose our test set. That's no good!\n",
    "\n",
    "Unfortunately this dataset is too big for us to run LOOCV, so we'll have to settle for `k`-fold. In the space below, build a logistic model on the full `Default` dataset and then run 5-fold cross-validation to get a more accurate estimate of your test error rate:"
   ]
  },
  {
   "cell_type": "markdown",
   "metadata": {},
   "source": [
    "Lots and lots of syntax problems below. First, I wasn't able to use cross_val_score on a logistic regression model created using smf.glm, so I switched to sklearn's LogisticRegression. Next, there were all sorts of weird issues with the dependent variable y and its shape. I needed to convert column vector to a 1-D array...why??"
   ]
  },
  {
   "cell_type": "code",
   "execution_count": 127,
   "metadata": {},
   "outputs": [
    {
     "name": "stdout",
     "output_type": "stream",
     "text": [
      "Folds: 5, MSE: 0.9727, STD: 0.001166190378969061\n"
     ]
    }
   ],
   "source": [
    "# Your code here\n",
    "from sklearn.linear_model import LogisticRegression\n",
    "\n",
    "X = df2['balance'].values.reshape(-1, 1)\n",
    "y = df2['default'].values.reshape(-1, 1)\n",
    "# X = df2['balance'].values.ravel()\n",
    "# y = df2['default'].values.ravel()\n",
    "lr = LogisticRegression()\n",
    "model = lr.fit(X, df2['default'].values.ravel())\n",
    "# result = model.fit()\n",
    "# predicted = cross_val_predict(LogisticRegression(), X, y, cv=5)\n",
    "crossvalidation = KFold(n_splits=5, random_state=None, shuffle=False)\n",
    "scores = cross_val_score(model, X, df2['default'].values.ravel(), scoring=\"accuracy\", cv=crossvalidation)\n",
    "\n",
    "\n",
    "\n",
    "print(\"Folds: \" + str(len(scores)) + \", MSE: \" + str(np.mean(np.abs(scores))) + \", STD: \" + str(np.std(scores)))"
   ]
  },
  {
   "cell_type": "markdown",
   "metadata": {},
   "source": [
    "# 5.3.4 The Bootstrap\n",
    "\n",
    "We illustrate the use of the bootstrap in the simple example of Section 5.2,\n",
    "as well as on an example involving estimating the accuracy of the linear\n",
    "regression model on the `Auto`data set.\n",
    "\n",
    "# Estimating the Accuracy of a Statistic of Interest\n",
    "\n",
    "One of the great advantages of the bootstrap approach is that it can be\n",
    "applied in almost all situations. No complicated mathematical calculations\n",
    "are required. Performing a bootstrap analysis in R entails only two steps.\n",
    "\n",
    "- First, we must create a function that computes the statistic of interest.\n",
    "- Second, we use the `boot()` function, which is part of the boot library, to perform the bootstrap by repeatedly sampling observations from the data set with replacement.\n",
    "\n",
    "The `Portfolio` data set in the `ISLR` package is described in Section 5.2. It has variables called `X` and `Y`. "
   ]
  },
  {
   "cell_type": "code",
   "execution_count": 131,
   "metadata": {},
   "outputs": [
    {
     "name": "stdout",
     "output_type": "stream",
     "text": [
      "   Unnamed: 0         X         Y\n",
      "0           1 -0.895251 -0.234924\n",
      "1           2 -1.562454 -0.885176\n",
      "2           3 -0.417090  0.271888\n",
      "3           4  1.044356 -0.734198\n",
      "4           5 -0.315568  0.841983\n",
      "(100, 3)\n"
     ]
    }
   ],
   "source": [
    "portfolio_df = pd.read_csv('data/portfolio.csv')\n",
    "print(portfolio_df.head())\n",
    "print(np.shape(portfolio_df))"
   ]
  },
  {
   "cell_type": "markdown",
   "metadata": {},
   "source": [
    "To illustrate the use of the bootstrap on this data, we must first create\n",
    "a function, `alpha()`, which takes as input the data and outputs the estimate for $\\alpha$ (described in more detail on page 187).\n",
    "\n",
    "I added the indexing of the covariance matrix in order to get out the scalar, $\\sigma_{xy}$, rather than the covariance matrix, $\\Sigma$."
   ]
  },
  {
   "cell_type": "code",
   "execution_count": 162,
   "metadata": {},
   "outputs": [],
   "source": [
    "def alpha(X,Y):\n",
    "    return ((np.var(Y)-np.cov(X,Y)[1, 0])/(np.var(X)+np.var(Y)-2*np.cov(X,Y)[1, 0]))"
   ]
  },
  {
   "cell_type": "markdown",
   "metadata": {},
   "source": [
    "This function returns, or outputs, an estimate for $\\alpha$ based on applying\n",
    "(5.7) to the observations indexed by the argument index. For instance, the\n",
    "following command tells `python` to estimate $\\alpha$ using all 100 observations."
   ]
  },
  {
   "cell_type": "code",
   "execution_count": 157,
   "metadata": {},
   "outputs": [
    {
     "name": "stdout",
     "output_type": "stream",
     "text": [
      "0.57583207459283\n"
     ]
    }
   ],
   "source": [
    "X = portfolio_df.X[0:100]\n",
    "y = portfolio_df.Y[0:100]\n",
    "print(alpha(X,y))"
   ]
  },
  {
   "cell_type": "markdown",
   "metadata": {},
   "source": [
    "The next command uses the `sample()` function to randomly select 100 observations\n",
    "from the range 1 to 100, with replacement. This is equivalent\n",
    "to constructing a new bootstrap data set and recomputing $\\hat{\\alpha}$ based on the\n",
    "new data set."
   ]
  },
  {
   "cell_type": "code",
   "execution_count": 159,
   "metadata": {},
   "outputs": [
    {
     "name": "stdout",
     "output_type": "stream",
     "text": [
      "0.6057952862009091\n"
     ]
    }
   ],
   "source": [
    "dfsample = portfolio_df.sample(frac=1, replace=True)\n",
    "X = dfsample.X[0:100]\n",
    "y = dfsample.Y[0:100]\n",
    "print(alpha(X,y))"
   ]
  },
  {
   "cell_type": "code",
   "execution_count": 144,
   "metadata": {
    "scrolled": true
   },
   "outputs": [
    {
     "name": "stdout",
     "output_type": "stream",
     "text": [
      "[1.4382995231556577, array([[1.3396814 , 0.83154523],\n",
      "       [0.83154523, 1.4528278 ]]), array([[ 0.09861812,  0.60675429],\n",
      "       [ 0.60675429, -0.01452828]])]\n"
     ]
    }
   ],
   "source": [
    "print([np.var(y), np.cov(X,y), np.var(y)-np.cov(X,y)])"
   ]
  },
  {
   "cell_type": "markdown",
   "metadata": {},
   "source": [
    "We can implement a bootstrap analysis by performing this command many\n",
    "times, recording all of the corresponding estimates for $\\alpha$, and computing the resulting standard deviation. However, the `boot()`function automates\n",
    "this approach. Below we produce $1,000$ bootstrap estimates for $\\alpha$:"
   ]
  },
  {
   "cell_type": "code",
   "execution_count": 163,
   "metadata": {},
   "outputs": [
    {
     "name": "stdout",
     "output_type": "stream",
     "text": [
      "[0.5766969786027231, 0.09379714933667499]\n"
     ]
    }
   ],
   "source": [
    "def bstrap(df):\n",
    "    result = []\n",
    "    tresult = 0\n",
    "    for i in range(0,1000):\n",
    "        dfsample = df.sample(frac=1, replace=True)\n",
    "        X = dfsample.X[0:100]\n",
    "        y = dfsample.Y[0:100]\n",
    "        result.append(alpha(X,y))\n",
    "        tresult += result[-1]\n",
    "    fresult = tresult / 1000\n",
    "    se_result = np.std(result)\n",
    "    print([fresult, se_result])\n",
    "bstrap(portfolio_df)"
   ]
  },
  {
   "cell_type": "markdown",
   "metadata": {},
   "source": [
    "The final output shows that using the original data, $\\hat{\\alpha} = 0.58$, and that the bootstrap estimate for $SE(\\hat{\\alpha})$ is 0.18.\n",
    "\n",
    "# Estimating the Accuracy of a Linear Regression Model\n",
    "\n",
    "The bootstrap approach can be used to assess the variability of the coefficient\n",
    "estimates and predictions from a statistical learning method. Here\n",
    "we use the bootstrap approach in order to assess the variability of the\n",
    "estimates for $\\beta_0$ and $\\beta_1$, the intercept and slope terms for the linear regression\n",
    "model that uses horsepower to predict mpg in the Auto data set. We\n",
    "will compare the estimates obtained using the bootstrap to those obtained\n",
    "using the formulas for $SE(\\hat{\\beta}_0)$ and $SE(\\hat{\\beta}_1)$ described in Section 3.1.2.\n",
    "\n",
    "First let's refresh our memory about a linear model of the `Auto` dataset:"
   ]
  },
  {
   "cell_type": "code",
   "execution_count": 164,
   "metadata": {},
   "outputs": [
    {
     "data": {
      "text/html": [
       "<div>\n",
       "<style scoped>\n",
       "    .dataframe tbody tr th:only-of-type {\n",
       "        vertical-align: middle;\n",
       "    }\n",
       "\n",
       "    .dataframe tbody tr th {\n",
       "        vertical-align: top;\n",
       "    }\n",
       "\n",
       "    .dataframe thead th {\n",
       "        text-align: right;\n",
       "    }\n",
       "</style>\n",
       "<table border=\"1\" class=\"dataframe\">\n",
       "  <thead>\n",
       "    <tr style=\"text-align: right;\">\n",
       "      <th></th>\n",
       "      <th>mpg</th>\n",
       "      <th>cylinders</th>\n",
       "      <th>displacement</th>\n",
       "      <th>horsepower</th>\n",
       "      <th>weight</th>\n",
       "      <th>acceleration</th>\n",
       "      <th>year</th>\n",
       "      <th>origin</th>\n",
       "    </tr>\n",
       "  </thead>\n",
       "  <tbody>\n",
       "    <tr>\n",
       "      <th>count</th>\n",
       "      <td>392.000000</td>\n",
       "      <td>392.000000</td>\n",
       "      <td>392.000000</td>\n",
       "      <td>392.000000</td>\n",
       "      <td>392.000000</td>\n",
       "      <td>392.000000</td>\n",
       "      <td>392.000000</td>\n",
       "      <td>392.000000</td>\n",
       "    </tr>\n",
       "    <tr>\n",
       "      <th>mean</th>\n",
       "      <td>23.445918</td>\n",
       "      <td>5.471939</td>\n",
       "      <td>194.411990</td>\n",
       "      <td>104.469388</td>\n",
       "      <td>2977.584184</td>\n",
       "      <td>15.541327</td>\n",
       "      <td>75.979592</td>\n",
       "      <td>1.576531</td>\n",
       "    </tr>\n",
       "    <tr>\n",
       "      <th>std</th>\n",
       "      <td>7.805007</td>\n",
       "      <td>1.705783</td>\n",
       "      <td>104.644004</td>\n",
       "      <td>38.491160</td>\n",
       "      <td>849.402560</td>\n",
       "      <td>2.758864</td>\n",
       "      <td>3.683737</td>\n",
       "      <td>0.805518</td>\n",
       "    </tr>\n",
       "    <tr>\n",
       "      <th>min</th>\n",
       "      <td>9.000000</td>\n",
       "      <td>3.000000</td>\n",
       "      <td>68.000000</td>\n",
       "      <td>46.000000</td>\n",
       "      <td>1613.000000</td>\n",
       "      <td>8.000000</td>\n",
       "      <td>70.000000</td>\n",
       "      <td>1.000000</td>\n",
       "    </tr>\n",
       "    <tr>\n",
       "      <th>25%</th>\n",
       "      <td>17.000000</td>\n",
       "      <td>4.000000</td>\n",
       "      <td>105.000000</td>\n",
       "      <td>75.000000</td>\n",
       "      <td>2225.250000</td>\n",
       "      <td>13.775000</td>\n",
       "      <td>73.000000</td>\n",
       "      <td>1.000000</td>\n",
       "    </tr>\n",
       "    <tr>\n",
       "      <th>50%</th>\n",
       "      <td>22.750000</td>\n",
       "      <td>4.000000</td>\n",
       "      <td>151.000000</td>\n",
       "      <td>93.500000</td>\n",
       "      <td>2803.500000</td>\n",
       "      <td>15.500000</td>\n",
       "      <td>76.000000</td>\n",
       "      <td>1.000000</td>\n",
       "    </tr>\n",
       "    <tr>\n",
       "      <th>75%</th>\n",
       "      <td>29.000000</td>\n",
       "      <td>8.000000</td>\n",
       "      <td>275.750000</td>\n",
       "      <td>126.000000</td>\n",
       "      <td>3614.750000</td>\n",
       "      <td>17.025000</td>\n",
       "      <td>79.000000</td>\n",
       "      <td>2.000000</td>\n",
       "    </tr>\n",
       "    <tr>\n",
       "      <th>max</th>\n",
       "      <td>46.600000</td>\n",
       "      <td>8.000000</td>\n",
       "      <td>455.000000</td>\n",
       "      <td>230.000000</td>\n",
       "      <td>5140.000000</td>\n",
       "      <td>24.800000</td>\n",
       "      <td>82.000000</td>\n",
       "      <td>3.000000</td>\n",
       "    </tr>\n",
       "  </tbody>\n",
       "</table>\n",
       "</div>"
      ],
      "text/plain": [
       "              mpg   cylinders  displacement  horsepower       weight  \\\n",
       "count  392.000000  392.000000    392.000000  392.000000   392.000000   \n",
       "mean    23.445918    5.471939    194.411990  104.469388  2977.584184   \n",
       "std      7.805007    1.705783    104.644004   38.491160   849.402560   \n",
       "min      9.000000    3.000000     68.000000   46.000000  1613.000000   \n",
       "25%     17.000000    4.000000    105.000000   75.000000  2225.250000   \n",
       "50%     22.750000    4.000000    151.000000   93.500000  2803.500000   \n",
       "75%     29.000000    8.000000    275.750000  126.000000  3614.750000   \n",
       "max     46.600000    8.000000    455.000000  230.000000  5140.000000   \n",
       "\n",
       "       acceleration        year      origin  \n",
       "count    392.000000  392.000000  392.000000  \n",
       "mean      15.541327   75.979592    1.576531  \n",
       "std        2.758864    3.683737    0.805518  \n",
       "min        8.000000   70.000000    1.000000  \n",
       "25%       13.775000   73.000000    1.000000  \n",
       "50%       15.500000   76.000000    1.000000  \n",
       "75%       17.025000   79.000000    2.000000  \n",
       "max       24.800000   82.000000    3.000000  "
      ]
     },
     "execution_count": 164,
     "metadata": {},
     "output_type": "execute_result"
    }
   ],
   "source": [
    "from sklearn.utils import resample\n",
    "\n",
    "auto_df = pd.read_csv('data/Auto.csv')\n",
    "\n",
    "auto_df.describe()"
   ]
  },
  {
   "cell_type": "code",
   "execution_count": 167,
   "metadata": {},
   "outputs": [
    {
     "name": "stdout",
     "output_type": "stream",
     "text": [
      "[-0.15784473] 39.93586102117047\n"
     ]
    }
   ],
   "source": [
    "lm = skl_lm.LinearRegression()\n",
    "X = auto_df['horsepower'].values.reshape(-1,1)\n",
    "y = auto_df['mpg']\n",
    "clf = lm.fit(X,y)\n",
    "print(clf.coef_, clf.intercept_)"
   ]
  },
  {
   "cell_type": "markdown",
   "metadata": {},
   "source": [
    "Next, we use the `bootstrap()`function to compute the standard errors of 1,000\n",
    "bootstrap estimates for the intercept and slope terms:"
   ]
  },
  {
   "cell_type": "code",
   "execution_count": 181,
   "metadata": {},
   "outputs": [
    {
     "name": "stdout",
     "output_type": "stream",
     "text": [
      "Intercept: 39.227535780500986 Coef: [-0.15537295]\n"
     ]
    }
   ],
   "source": [
    "from sklearn.metrics import mean_squared_error\n",
    "\n",
    "Xsamp, ysamp = resample(X, y, n_samples=392)\n",
    "clf = lm.fit(Xsamp,ysamp)\n",
    "print('Intercept: ' + str(clf.intercept_) + \" Coef: \" + str(clf.coef_))"
   ]
  },
  {
   "cell_type": "code",
   "execution_count": 182,
   "metadata": {},
   "outputs": [],
   "source": [
    "?resample"
   ]
  },
  {
   "cell_type": "code",
   "execution_count": null,
   "metadata": {},
   "outputs": [],
   "source": []
  }
 ],
 "metadata": {
  "anaconda-cloud": {},
  "kernelspec": {
   "display_name": "Python 3",
   "language": "python",
   "name": "python3"
  },
  "language_info": {
   "codemirror_mode": {
    "name": "ipython",
    "version": 3
   },
   "file_extension": ".py",
   "mimetype": "text/x-python",
   "name": "python",
   "nbconvert_exporter": "python",
   "pygments_lexer": "ipython3",
   "version": "3.7.6"
  }
 },
 "nbformat": 4,
 "nbformat_minor": 1
}
